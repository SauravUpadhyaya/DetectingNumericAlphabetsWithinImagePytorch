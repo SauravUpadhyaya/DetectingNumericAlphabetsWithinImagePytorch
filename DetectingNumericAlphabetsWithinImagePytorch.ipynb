{
 "cells": [
  {
   "cell_type": "code",
   "execution_count": null,
   "id": "04613cf2",
   "metadata": {},
   "outputs": [],
   "source": [
    "##Process 1: Stepwise\n",
    "\n",
    "##Reference:\n",
    "https://github.com/Digya053/deep-learning-v2-pytorch/blob/master/intro-to-pytorch/Part%203%20-%20Training%20Neural%20Networks%20(Solution).ipynb\n"
   ]
  },
  {
   "cell_type": "code",
   "execution_count": 7,
   "id": "b9cbd4c9",
   "metadata": {},
   "outputs": [],
   "source": [
    "#Import important packages\n",
    "import pandas as pd\n",
    "import numpy as np\n",
    "import matplotlib.pyplot as plt\n",
    "import torch\n",
    "import torch.nn.functional as tf\n",
    "from torch import nn\n",
    "\n"
   ]
  },
  {
   "cell_type": "code",
   "execution_count": null,
   "id": "4d53a289",
   "metadata": {},
   "outputs": [],
   "source": [
    "#Importing helper class\n",
    "import helper"
   ]
  },
  {
   "cell_type": "code",
   "execution_count": 1,
   "id": "187479bf",
   "metadata": {},
   "outputs": [],
   "source": [
    "from torchvision import datasets, transforms"
   ]
  },
  {
   "cell_type": "code",
   "execution_count": 3,
   "id": "51267f16",
   "metadata": {},
   "outputs": [],
   "source": [
    "transform= transforms.Compose([transforms.ToTensor(), transforms.Normalize((0.5,), (0.5,),)])\n"
   ]
  },
  {
   "cell_type": "code",
   "execution_count": 8,
   "id": "7b760d36",
   "metadata": {},
   "outputs": [],
   "source": [
    "#Download and loading the training data\n",
    "trainset = datasets.MNIST('~/.pytorch/Mnist_data/', download= True, train= True, transform= transform)\n",
    "trainloader = torch.utils.data.DataLoader(trainset,batch_size = 64, shuffle= True)\n"
   ]
  },
  {
   "cell_type": "code",
   "execution_count": 12,
   "id": "001147a6",
   "metadata": {},
   "outputs": [],
   "source": [
    "#Building a feedforward network\n",
    "model = nn.Sequential(\n",
    "                      nn.Linear(784,128),\n",
    "                      nn.ReLU(),\n",
    "                      nn.Linear(128,64),\n",
    "                      nn.ReLU(),\n",
    "                      nn.Linear(64,10),\n",
    "                      nn.LogSoftmax(dim=1)\n",
    "                     )"
   ]
  },
  {
   "cell_type": "code",
   "execution_count": 14,
   "id": "591bce28",
   "metadata": {},
   "outputs": [
    {
     "name": "stdout",
     "output_type": "stream",
     "text": [
      "tensor(2.2960, grad_fn=<NllLossBackward0>)\n"
     ]
    }
   ],
   "source": [
    "#Define the loss function\n",
    "criterion= nn.NLLLoss()\n",
    "#Get data\n",
    "images, labels = next(iter(trainloader))\n",
    "#Flatten the images\n",
    "images = images.view(images.shape[0],-1)\n",
    "#Forward pass, get log-probabilities\n",
    "\n",
    "logps = model(images)\n",
    "#Calculate loss with logps and the labels\n",
    "loss = criterion(logps,labels)\n",
    "print(loss)\n"
   ]
  },
  {
   "cell_type": "code",
   "execution_count": 15,
   "id": "74c155df",
   "metadata": {},
   "outputs": [
    {
     "name": "stdout",
     "output_type": "stream",
     "text": [
      "Before Backward pass:\n",
      " None\n"
     ]
    }
   ],
   "source": [
    "print('Before Backward pass:\\n', model[0].weight.grad)"
   ]
  },
  {
   "cell_type": "code",
   "execution_count": 16,
   "id": "cf5f09e7",
   "metadata": {},
   "outputs": [
    {
     "name": "stdout",
     "output_type": "stream",
     "text": [
      "After backward pass:\n",
      " tensor([[ 0.0038,  0.0038,  0.0038,  ...,  0.0038,  0.0038,  0.0038],\n",
      "        [ 0.0000,  0.0000,  0.0000,  ...,  0.0000,  0.0000,  0.0000],\n",
      "        [ 0.0020,  0.0020,  0.0020,  ...,  0.0020,  0.0020,  0.0020],\n",
      "        ...,\n",
      "        [-0.0031, -0.0031, -0.0031,  ..., -0.0031, -0.0031, -0.0031],\n",
      "        [ 0.0002,  0.0002,  0.0002,  ...,  0.0002,  0.0002,  0.0002],\n",
      "        [-0.0016, -0.0016, -0.0016,  ..., -0.0016, -0.0016, -0.0016]])\n"
     ]
    }
   ],
   "source": [
    "loss.backward()\n",
    "print(\"After backward pass:\\n\", model[0].weight.grad)"
   ]
  },
  {
   "cell_type": "code",
   "execution_count": 17,
   "id": "cffe8bf7",
   "metadata": {},
   "outputs": [],
   "source": [
    "#Now, training the network\n",
    "from torch import optim\n",
    "optimizer = optim.SGD(model.parameters(), lr = 0.01)"
   ]
  },
  {
   "cell_type": "code",
   "execution_count": 19,
   "id": "dd410b5f",
   "metadata": {},
   "outputs": [
    {
     "name": "stdout",
     "output_type": "stream",
     "text": [
      "Initial weight:\n",
      " Parameter containing:\n",
      "tensor([[-0.0304, -0.0285, -0.0292,  ..., -0.0149,  0.0022, -0.0045],\n",
      "        [ 0.0084, -0.0249, -0.0343,  ..., -0.0294, -0.0107,  0.0289],\n",
      "        [-0.0260, -0.0062, -0.0075,  ..., -0.0114,  0.0195,  0.0087],\n",
      "        ...,\n",
      "        [-0.0349, -0.0264, -0.0260,  ..., -0.0190, -0.0304,  0.0241],\n",
      "        [ 0.0341,  0.0247,  0.0047,  ..., -0.0305,  0.0299,  0.0326],\n",
      "        [-0.0083,  0.0060,  0.0224,  ...,  0.0244, -0.0123, -0.0077]],\n",
      "       requires_grad=True)\n"
     ]
    }
   ],
   "source": [
    "print(\"Initial weight:\\n\", model[0].weight)"
   ]
  },
  {
   "cell_type": "code",
   "execution_count": 20,
   "id": "2f8106cf",
   "metadata": {},
   "outputs": [
    {
     "data": {
      "text/plain": [
       "tensor([[-1., -1., -1.,  ..., -1., -1., -1.],\n",
       "        [-1., -1., -1.,  ..., -1., -1., -1.],\n",
       "        [-1., -1., -1.,  ..., -1., -1., -1.],\n",
       "        ...,\n",
       "        [-1., -1., -1.,  ..., -1., -1., -1.],\n",
       "        [-1., -1., -1.,  ..., -1., -1., -1.],\n",
       "        [-1., -1., -1.,  ..., -1., -1., -1.]])"
      ]
     },
     "execution_count": 20,
     "metadata": {},
     "output_type": "execute_result"
    }
   ],
   "source": [
    "images, labels = next(iter(trainloader)) \n",
    "images.resize_(64,784)"
   ]
  },
  {
   "cell_type": "code",
   "execution_count": 21,
   "id": "419c6e0d",
   "metadata": {},
   "outputs": [
    {
     "name": "stdout",
     "output_type": "stream",
     "text": [
      "Gradient tensor([[ 0.0033,  0.0033,  0.0033,  ...,  0.0033,  0.0033,  0.0033],\n",
      "        [ 0.0000,  0.0000,  0.0000,  ...,  0.0000,  0.0000,  0.0000],\n",
      "        [-0.0007, -0.0007, -0.0007,  ..., -0.0007, -0.0007, -0.0007],\n",
      "        ...,\n",
      "        [ 0.0015,  0.0015,  0.0015,  ...,  0.0015,  0.0015,  0.0015],\n",
      "        [-0.0023, -0.0023, -0.0023,  ..., -0.0023, -0.0023, -0.0023],\n",
      "        [-0.0002, -0.0002, -0.0002,  ..., -0.0002, -0.0002, -0.0002]])\n"
     ]
    }
   ],
   "source": [
    "#When you do multiple backwards passes with the same parameters, the gradients are accumulated. \n",
    "#This means that you need to zero the gradients on each training pass or you'll retain gradients from previous \n",
    "#training batches.\n",
    "\n",
    "optimizer.zero_grad()\n",
    "output = model(images)\n",
    "loss = criterion(output, labels)\n",
    "loss.backward()\n",
    "print(\"Gradient\", model[0].weight.grad)\n"
   ]
  },
  {
   "cell_type": "code",
   "execution_count": 22,
   "id": "b834cb16",
   "metadata": {},
   "outputs": [
    {
     "name": "stdout",
     "output_type": "stream",
     "text": [
      "Updated weights -  Parameter containing:\n",
      "tensor([[-0.0304, -0.0285, -0.0293,  ..., -0.0149,  0.0022, -0.0045],\n",
      "        [ 0.0084, -0.0249, -0.0343,  ..., -0.0294, -0.0107,  0.0289],\n",
      "        [-0.0260, -0.0062, -0.0075,  ..., -0.0114,  0.0195,  0.0087],\n",
      "        ...,\n",
      "        [-0.0350, -0.0264, -0.0260,  ..., -0.0190, -0.0304,  0.0241],\n",
      "        [ 0.0341,  0.0247,  0.0047,  ..., -0.0305,  0.0299,  0.0326],\n",
      "        [-0.0083,  0.0060,  0.0224,  ...,  0.0244, -0.0123, -0.0077]],\n",
      "       requires_grad=True)\n"
     ]
    }
   ],
   "source": [
    "## Take an update step and few the new weights\n",
    "optimizer.step()\n",
    "print(\"Updated weights - \", model[0].weight)"
   ]
  },
  {
   "cell_type": "code",
   "execution_count": 25,
   "id": "4727ec01",
   "metadata": {},
   "outputs": [
    {
     "name": "stdout",
     "output_type": "stream",
     "text": [
      "Training loss: 0.6316079390423892\n",
      "Training loss: 0.277895759830851\n",
      "Training loss: 0.21369454951317451\n",
      "Training loss: 0.17226239126215356\n",
      "Training loss: 0.14411356424821464\n"
     ]
    },
    {
     "data": {
      "image/png": "[encoded data removed]",
      "text/plain": [
       "<Figure size 432x648 with 2 Axes>"
      ]
     },
     "metadata": {
      "needs_background": "light"
     },
     "output_type": "display_data"
    }
   ],
   "source": [
    "##Summarizing above one \n",
    "#training for real\n",
    "#mplement the training pass for our network. If you implemented it correctly, you should see the training \n",
    "#loss drop with each epoch.\n",
    "\n",
    "\n",
    "import pandas as pd\n",
    "import numpy as np\n",
    "import matplotlib.pyplot as plt\n",
    "import torch\n",
    "import torch.nn.functional as tf\n",
    "from torch import nn\n",
    "#Importing helper class\n",
    "import helper\n",
    "\n",
    "from torchvision import datasets, transforms\n",
    "transform= transforms.Compose([transforms.ToTensor(), transforms.Normalize((0.5,), (0.5,),)])\n",
    "\n",
    "#Download and loading the training data\n",
    "trainset = datasets.MNIST('~/.pytorch/Mnist_data/', download= True, train= True, transform= transform)\n",
    "trainloader = torch.utils.data.DataLoader(trainset,batch_size = 64, shuffle= True)\n",
    "\n",
    "\n",
    "#Building a feedforward network\n",
    "model = nn.Sequential(\n",
    "                      nn.Linear(784,128),\n",
    "                      nn.ReLU(),\n",
    "                      nn.Linear(128,64),\n",
    "                      nn.ReLU(),\n",
    "                      nn.Linear(64,10),\n",
    "                      nn.LogSoftmax(dim=1)\n",
    "                     )\n",
    "#Define the loss function\n",
    "criterion= nn.NLLLoss()\n",
    "optimizer = optim.SGD(model.parameters(), lr = 0.03)\n",
    "epochs = 5\n",
    "for e in range(epochs):\n",
    "    running_loss = 0\n",
    "    for images, labels in trainloader:\n",
    "        # Flatten MNIST images into a 784 long vector\n",
    "        images = images.view(images.shape[0], -1)\n",
    "    \n",
    "        # TODO: Training pass\n",
    "        optimizer.zero_grad()\n",
    "        \n",
    "        output = model(images)\n",
    "        loss = criterion(output, labels)\n",
    "        loss.backward()\n",
    "        optimizer.step()\n",
    "        \n",
    "        running_loss += loss.item()\n",
    "    else:\n",
    "        print(f\"Training loss: {running_loss/len(trainloader)}\")\n",
    "        \n",
    "        \n",
    "%matplotlib inline\n",
    "import helper\n",
    "\n",
    "images, labels = next(iter(trainloader))\n",
    "\n",
    "img = images[0].view(1, 784)\n",
    "# Turn off gradients to speed up this part\n",
    "with torch.no_grad():\n",
    "    logps = model(img)\n",
    "\n",
    "# Output of the network are log-probabilities, need to take exponential for probabilities\n",
    "ps = torch.exp(logps)\n",
    "helper.view_classify(img.view(1, 28, 28), ps)"
   ]
  },
  {
   "cell_type": "code",
   "execution_count": null,
   "id": "eac2f555",
   "metadata": {},
   "outputs": [],
   "source": []
  },
  {
   "cell_type": "code",
   "execution_count": null,
   "id": "d253e472",
   "metadata": {},
   "outputs": [],
   "source": []
  }
 ],
 "metadata": {
  "kernelspec": {
   "display_name": "Python 3 (ipykernel)",
   "language": "python",
   "name": "python3"
  },
  "language_info": {
   "codemirror_mode": {
    "name": "ipython",
    "version": 3
   },
   "file_extension": ".py",
   "mimetype": "text/x-python",
   "name": "python",
   "nbconvert_exporter": "python",
   "pygments_lexer": "ipython3",
   "version": "3.9.12"
  }
 },
 "nbformat": 4,
 "nbformat_minor": 5
}
